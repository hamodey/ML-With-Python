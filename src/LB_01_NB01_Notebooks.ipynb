{
 "cells": [
  {
   "cell_type": "markdown",
   "metadata": {
    "collapsed": true
   },
   "source": [
    "# 1. Introduction to Python and Jupyter / IPython\n",
    "\n",
    "**Instructions:**\n",
    "* go through the notebook and complete the **tasks** .  \n",
    "* Make sure you understand the examples given!\n",
    "* ** Save your notebooks when you are done! **\n",
    "\n",
    "We will be using Python 3.5 for the ML labs. Check the Lab Resources & Installation page on learn.gold for more details.\n",
    "\n",
    "We will also be using the ipython/jupyter notebook environment for python (Jupyter is the new name for the ipython project).  \n",
    "\n",
    "Documentation for ipython can be found <a href=\"https://ipython.org/ipython-doc/3/notebook/index.html\">here</a>, and jupyter <a href=\"http://jupyter.readthedocs.io/en/latest/\">here</a>.\n",
    "\n",
    "See details on documentation / resources here:\n",
    "https://learn.gold.ac.uk/mod/page/view.php?id=487982"
   ]
  },
  {
   "cell_type": "markdown",
   "metadata": {},
   "source": [
    "## 1.1  Cells\n",
    "### 1.1.1 Executing Cells\n",
    "IPython notebooks contain individual code cells that are executed when  we click on them and then press `<Ctrl>`+`<Enter>`.  \n",
    "\n",
    "Note that this is like executing different pieces of code within the same namespace:  e.g., if a variable is set when executing a cell, this persists when executing the next cell.  \n",
    "\n",
    "<span style=\"color:rgb(170,0,0)\">**Task:**</span> Run the following two cells in sequence: firsly click on each cell, then press `<Ctrl>`+`<Enter>`."
   ]
  },
  {
   "cell_type": "code",
   "execution_count": 8,
   "metadata": {},
   "outputs": [],
   "source": [
    "#set variable x to value 3\n",
    "x=3"
   ]
  },
  {
   "cell_type": "code",
   "execution_count": 9,
   "metadata": {},
   "outputs": [
    {
     "name": "stdout",
     "output_type": "stream",
     "text": [
      "3\n"
     ]
    }
   ],
   "source": [
    "#print the value of variable x\n",
    "print(x)"
   ]
  },
  {
   "cell_type": "markdown",
   "metadata": {
    "collapsed": true
   },
   "source": [
    "Had we executed the second cell first, we would get an error message since the variable x would not be set yet."
   ]
  },
  {
   "cell_type": "markdown",
   "metadata": {},
   "source": [
    "### 1.1.2 Inserting and Deleting Cells\n",
    "From menu:  **Insert->Insert Cell Below/Above**\n",
    "or simply by clicking in an empty space in the notebook (below any already existing cells).\n",
    "\n",
    "<span style=\"color:rgb(170,0,0)\">**Task:**</span> Try inserting a cell below this one.  Type some python code, e.g., `print(\"hello\")` and hit `<Ctrl>`+`<Enter>`.  When you verify that everything is working properly, delete the cell.\n",
    "\n",
    "**Note**:  To delete the cell, you can press the key **d** twice, while the border of the cell is blue (you can achieve this by clicking left of the cell content)\n"
   ]
  },
  {
   "cell_type": "code",
   "execution_count": 11,
   "metadata": {},
   "outputs": [
    {
     "name": "stdout",
     "output_type": "stream",
     "text": [
      "hello\n"
     ]
    }
   ],
   "source": [
    "print(\"hello\")"
   ]
  },
  {
   "cell_type": "markdown",
   "metadata": {},
   "source": [
    "### 1.1.3 Non-code cells\n",
    "You can change the the type of a cell by the drop-down list below the jupyter main menu.  Markdown cells are used for non-code (much like this one) but can also render mathematical expressions via <a href=\"https://www.latex-project.org/\">latex</a>, which is a useful typesetting system.\n",
    "\n",
    "<a href=\"http://jupyter-notebook.readthedocs.io/en/latest/examples/Notebook/Working%20With%20Markdown%20Cells.html\">More on markdown and jupyter</a>\n",
    "\n",
    "\n",
    "<span style=\"color:rgb(170,0,0)\">**Task:**</span>\n",
    "* Insert a new cell below\n",
    "* Change the cell type to Markdown\n",
    "* Create a link, e.g., `<a href=\"www.wikipedia.com\">wikipedia</a>`\n",
    "* Insert the following code: `$$x^2=y^2+z^2$$`\n",
    "* Run the cell"
   ]
  },
  {
   "cell_type": "markdown",
   "metadata": {},
   "source": [
    "<a href=\"www.wikipedia.com\">wikipedia</a> $$x^2=y^2+z^2$$"
   ]
  },
  {
   "cell_type": "markdown",
   "metadata": {},
   "source": [
    "### 1.1.4 More on Latex\n",
    "Latex is usually used to write scientific expressions.  If you want to read more about it, here is a <a href=\"https://wch.github.io/latexsheet/latexsheet.pdf\">cheat sheet</a>, and a few more latex expressions (double click this cell to see the code)\n",
    "$$\\sum_{i=1}^Nx_i^2, \\frac{\\mathbf{x}}{\\mathbf{y}}$$\n",
    "\n",
    "$$\\mathbf{y}=\\begin{bmatrix}y_1\\\\\n",
    "         y_2\\\\\n",
    "         \\vdots\\\\\n",
    "         y_n\n",
    "        \\end{bmatrix}\\nonumber$$\n",
    "\n",
    "$$\\mathbf{X}=\n",
    "\\begin{bmatrix}\n",
    "    \\mathbf{X}_{1,1}       & \\mathbf{X}_{1,2}  \\\\\n",
    "    \\mathbf{X}_{2,1}       & \\mathbf{X}_{2,2} \n",
    "\\end{bmatrix}$$"
   ]
  },
  {
   "cell_type": "markdown",
   "metadata": {},
   "source": [
    " ### 1.2 Notebook format\n",
    " \n",
    "Jupyter/IPython notebooks follow the <a href=\"https://en.wikipedia.org/wiki/JSON\">JSON</a> format.  This makes it easy to share notebook files (since they are not binary files), and can be easily copied and pasted.\n",
    "\n",
    "<a href=\"https://gist.github.com/\">Gist</a> is a service where people can upload (publicly or privately).  \n",
    "\n",
    "* Public notebooks are searchable! E.g., <a href=\"https://gist.github.com/search?utf8=%E2%9C%93&q=face+detection&ref=searchresults\">here </a> we search for code that performs face detection (note that this is not only for python)\n",
    "* We can paste a notebook URL <a href=\"http://nbviewer.jupyter.org/\">here</a> (no need to do this now)\n",
    "\n",
    "<span style=\"color:rgb(170,0,0)\">**Task:**</span>\n",
    "* Create a notebook (e.g., that prints \"hello python\")\n",
    "* Share it on https://gist.github.com/ (or any other pasting service)\n",
    "* Give the URL to the person sitting on your right (if no-one, then left)\n",
    "* Go to http://nbviewer.jupyter.org/ and paste the URL to get the notebook\n",
    "* Type the URL in the empty cell below"
   ]
  },
  {
   "cell_type": "code",
   "execution_count": 13,
   "metadata": {},
   "outputs": [
    {
     "ename": "SyntaxError",
     "evalue": "invalid syntax (<ipython-input-13-657204d86ff4>, line 1)",
     "output_type": "error",
     "traceback": [
      "\u001b[0;36m  File \u001b[0;32m\"<ipython-input-13-657204d86ff4>\"\u001b[0;36m, line \u001b[0;32m1\u001b[0m\n\u001b[0;31m    https://nbviewer.jupyter.org/gist/hamodey/e3278d06f83a2e72d0c54ed4fc79ac04\u001b[0m\n\u001b[0m           ^\u001b[0m\n\u001b[0;31mSyntaxError\u001b[0m\u001b[0;31m:\u001b[0m invalid syntax\n"
     ]
    }
   ],
   "source": [
    "https://nbviewer.jupyter.org/gist/hamodey/e3278d06f83a2e72d0c54ed4fc79ac04"
   ]
  }
 ],
 "metadata": {
  "kernelspec": {
   "display_name": "Python 3",
   "language": "python",
   "name": "python3"
  },
  "language_info": {
   "codemirror_mode": {
    "name": "ipython",
    "version": 3
   },
   "file_extension": ".py",
   "mimetype": "text/x-python",
   "name": "python",
   "nbconvert_exporter": "python",
   "pygments_lexer": "ipython3",
   "version": "3.7.1"
  }
 },
 "nbformat": 4,
 "nbformat_minor": 1
}
